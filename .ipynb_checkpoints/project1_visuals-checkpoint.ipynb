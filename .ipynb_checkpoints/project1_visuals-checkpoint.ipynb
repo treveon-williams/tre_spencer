{
 "cells": [
  {
   "cell_type": "code",
   "execution_count": null,
   "id": "b98901bf-723d-4055-94cd-5134cd427c73",
   "metadata": {},
   "outputs": [],
   "source": [
    "# Our 6 grpahs answering our questions for project 1 "
   ]
  },
  {
   "cell_type": "code",
   "execution_count": null,
   "id": "82165c9c-bd5f-4a27-88f8-3b03756e907f",
   "metadata": {},
   "outputs": [],
   "source": [
    "# Question 1:  What stock should I day trade? "
   ]
  },
  {
   "cell_type": "code",
   "execution_count": null,
   "id": "072e9930-3ae4-449b-ab9f-e62090c36916",
   "metadata": {},
   "outputs": [],
   "source": [
    "# Q1 Visual 1 "
   ]
  },
  {
   "cell_type": "code",
   "execution_count": null,
   "id": "cd84c224-f669-4f1c-a29d-787021903ef0",
   "metadata": {},
   "outputs": [],
   "source": [
    "# Q1 visual 2 "
   ]
  },
  {
   "cell_type": "code",
   "execution_count": null,
   "id": "c097229a-5443-4774-8a41-a4ed062d9561",
   "metadata": {},
   "outputs": [],
   "source": [
    "# Question 2: What is the average returns I can expect to get "
   ]
  },
  {
   "cell_type": "code",
   "execution_count": null,
   "id": "0ee3eef5-d83e-42ce-a0d8-b0af7edffe5f",
   "metadata": {},
   "outputs": [],
   "source": [
    "# Q2 visual 1"
   ]
  },
  {
   "cell_type": "code",
   "execution_count": null,
   "id": "32aabd3d-d402-4169-8ada-d5ef527f7e88",
   "metadata": {},
   "outputs": [],
   "source": [
    "# Q2 Visual 2 "
   ]
  },
  {
   "cell_type": "code",
   "execution_count": null,
   "id": "a334a6c6-1604-442a-b58f-e7afddb1f2b6",
   "metadata": {},
   "outputs": [],
   "source": [
    "# Question 3: what are the best and worse case senario of likly outcomes (Montie Carlo Simulation)"
   ]
  },
  {
   "cell_type": "code",
   "execution_count": null,
   "id": "dc65df5d-3f5a-44c8-821b-7399b18c87e1",
   "metadata": {},
   "outputs": [],
   "source": [
    "# Q3 visual 1 "
   ]
  },
  {
   "cell_type": "code",
   "execution_count": null,
   "id": "88223349-cf1f-4fe5-b646-e1f530c9712e",
   "metadata": {},
   "outputs": [],
   "source": [
    "# Q3 Visual 2 "
   ]
  }
 ],
 "metadata": {
  "kernelspec": {
   "display_name": "Python 3 (ipykernel)",
   "language": "python",
   "name": "python3"
  },
  "language_info": {
   "codemirror_mode": {
    "name": "ipython",
    "version": 3
   },
   "file_extension": ".py",
   "mimetype": "text/x-python",
   "name": "python",
   "nbconvert_exporter": "python",
   "pygments_lexer": "ipython3",
   "version": "3.7.13"
  }
 },
 "nbformat": 4,
 "nbformat_minor": 5
}
